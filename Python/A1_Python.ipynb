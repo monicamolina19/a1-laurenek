{
 "cells": [
  {
   "cell_type": "markdown",
   "metadata": {},
   "source": [
    "# Introduction"
   ]
  },
  {
   "cell_type": "markdown",
   "metadata": {},
   "source": [
    "If you do not have experience with python, you can refer to this link to help you get started  \n",
    "https://realpython.com/python-first-steps/\n",
    "You are encouraged to look for other options/websites that you are more comfortable with.\n",
    "\n",
    "Other materials and sources that can take advantage of are online educational websites like Lynda, Coursera, Edx, etc. If you sign in using your stanford id on Linda you will get access to free courses.  \n",
    "\n",
    "Stanford also has great programming courses such as CS 106A which is a 3 unit class. If you prefer something fast paced and accelerated, you can take CME 193 which is a 1 unit class "
   ]
  },
  {
   "cell_type": "markdown",
   "metadata": {},
   "source": [
    "# Installing Packages/Modules"
   ]
  },
  {
   "cell_type": "markdown",
   "metadata": {},
   "source": [
    "To get started open your anaconda environment by right clicking on the link and select \"Run as an administrator\"  \n",
    "Upgrade pip to its latest version - https://pip.pypa.io/en/stable/installing/\n",
    "\n",
    "If not already downloaded, download the following packages/modules \n",
    "\n",
    "pip  \n",
    "numpy  \n",
    "matplotlib  \n",
    "pandas\n",
    "geopandas  \n",
    "folium  \n",
    "csv  \n",
    "os\n",
    "\n",
    "How to download packages in conda environment - https://conda.io/docs/user-guide/tasks/manage-pkgs.html  /"
   ]
  },
  {
   "cell_type": "markdown",
   "metadata": {},
   "source": [
    "# Part A - Creating a Bar Plot"
   ]
  },
  {
   "cell_type": "code",
   "execution_count": 2,
   "metadata": {
    "collapsed": true
   },
   "outputs": [],
   "source": [
    "import numpy as np\n",
    "import geopandas as gpd\n",
    "import folium\n",
    "import csv\n",
    "import matplotlib.pyplot as plt\n",
    "import pandas as pd\n",
    "import os"
   ]
  },
  {
   "cell_type": "markdown",
   "metadata": {},
   "source": [
    "Open the PG&E files and save them in dataframes using pd.read_csv function\n",
    "\n",
    "What is a dataframe?  \n",
    "DataFrame is a 2-dimensional labeled data structure with columns of potentially different types. You can think of it like a spreadsheet or SQL table, or a dict of Series objects."
   ]
  },
  {
   "cell_type": "code",
   "execution_count": 3,
   "metadata": {
    "collapsed": true
   },
   "outputs": [],
   "source": [
    "### Make sure there are no commas in the files as we are uploading it as csv (comma-separated values)\n",
    "\n",
    "### Upload Electricity data\n",
    "\n",
    "f = open('PGE_2017_Q1_ElectricUsageByZip.csv','r')\n",
    "Q1E = pd.read_csv(f)\n",
    "f = open('PGE_2017_Q2_ElectricUsageByZip.csv','r')\n",
    "Q2E = pd.read_csv(f)\n",
    "f = open('PGE_2017_Q3_ElectricUsageByZip.csv','r')\n",
    "Q3E = pd.read_csv(f)\n",
    "f = open('PGE_2017_Q4_ElectricUsageByZip.csv','r')\n",
    "Q4E = pd.read_csv(f)\n",
    "\n",
    "### Repeat the same steps for Gas files\n",
    "\n",
    "f = open('PGE_2017_Q1_GasUsageByZip.csv','r')\n",
    "Q1G = pd.read_csv(f)\n",
    "f = open('PGE_2017_Q2_GasUsageByZip.csv','r')\n",
    "Q2G = pd.read_csv(f)\n",
    "f = open('PGE_2017_Q3_GasUsageByZip.csv','r')\n",
    "Q3G = pd.read_csv(f)\n",
    "f = open('PGE_2017_Q4_GasUsageByZip.csv','r')\n",
    "Q4G = pd.read_csv(f)"
   ]
  },
  {
   "cell_type": "markdown",
   "metadata": {},
   "source": [
    "Join the electricity and gas files using the append function.  \n",
    "https://pandas.pydata.org/pandas-docs/stable/generated/pandas.DataFrame.append.html\n",
    "    "
   ]
  },
  {
   "cell_type": "code",
   "execution_count": 4,
   "metadata": {
    "collapsed": true
   },
   "outputs": [],
   "source": [
    "### Join(Append) all the electricity data files\n",
    "\n",
    "TempStep1 = Q1E.append(Q2E, ignore_index=True)\n",
    "TempStep2 = TempStep1.append(Q3E, ignore_index=True)\n",
    "Electricity = TempStep2.append(Q4E, ignore_index = True)\n",
    "\n",
    "### Join(Append) all the gas data files\n",
    "\n",
    "TempStep3 = Q1G.append(Q2G, ignore_index=True)\n",
    "TempStep4 = TempStep3.append(Q3G, ignore_index=True)\n",
    "Gas = TempStep4.append(Q4G, ignore_index = True)"
   ]
  },
  {
   "cell_type": "markdown",
   "metadata": {},
   "source": [
    "Find out the column headers and data types of the table. "
   ]
  },
  {
   "cell_type": "code",
   "execution_count": 5,
   "metadata": {},
   "outputs": [
    {
     "name": "stdout",
     "output_type": "stream",
     "text": [
      "Electricity\n",
      "['ZIPCODE' 'MONTH' 'YEAR' 'CUSTOMERCLASS' 'COMBINED' 'TOTALCUSTOMERS'\n",
      " 'TOTALKWH' 'AVERAGEKWH']\n",
      "ZIPCODE             int64\n",
      "MONTH               int64\n",
      "YEAR                int64\n",
      "CUSTOMERCLASS      object\n",
      "COMBINED           object\n",
      "TOTALCUSTOMERS      int64\n",
      "TOTALKWH            int64\n",
      "AVERAGEKWH        float64\n",
      "dtype: object\n",
      "==================================================\n",
      "Gas\n",
      "['ZIPCODE' 'MONTH' 'YEAR' 'CUSTOMERCLASS' 'COMBINED' 'TOTALCUSTOMERS'\n",
      " 'TOTALTHM' 'AVERAGETHM']\n",
      "ZIPCODE             int64\n",
      "MONTH               int64\n",
      "YEAR                int64\n",
      "CUSTOMERCLASS      object\n",
      "COMBINED           object\n",
      "TOTALCUSTOMERS      int64\n",
      "TOTALTHM            int64\n",
      "AVERAGETHM        float64\n",
      "dtype: object\n"
     ]
    }
   ],
   "source": [
    "print(\"Electricity\")\n",
    "print(Electricity.columns.values)\n",
    "print(Electricity.dtypes)\n",
    "print(\"=\"*50)\n",
    "print(\"Gas\")\n",
    "print(Gas.columns.values)\n",
    "print(Gas.dtypes)"
   ]
  },
  {
   "cell_type": "markdown",
   "metadata": {},
   "source": [
    "To look at the first five or last five rows of the table you can use the head and tail function. "
   ]
  },
  {
   "cell_type": "code",
   "execution_count": 6,
   "metadata": {},
   "outputs": [
    {
     "data": {
      "text/html": [
       "<div>\n",
       "<style scoped>\n",
       "    .dataframe tbody tr th:only-of-type {\n",
       "        vertical-align: middle;\n",
       "    }\n",
       "\n",
       "    .dataframe tbody tr th {\n",
       "        vertical-align: top;\n",
       "    }\n",
       "\n",
       "    .dataframe thead th {\n",
       "        text-align: right;\n",
       "    }\n",
       "</style>\n",
       "<table border=\"1\" class=\"dataframe\">\n",
       "  <thead>\n",
       "    <tr style=\"text-align: right;\">\n",
       "      <th></th>\n",
       "      <th>ZIPCODE</th>\n",
       "      <th>MONTH</th>\n",
       "      <th>YEAR</th>\n",
       "      <th>CUSTOMERCLASS</th>\n",
       "      <th>COMBINED</th>\n",
       "      <th>TOTALCUSTOMERS</th>\n",
       "      <th>TOTALKWH</th>\n",
       "      <th>AVERAGEKWH</th>\n",
       "    </tr>\n",
       "  </thead>\n",
       "  <tbody>\n",
       "    <tr>\n",
       "      <th>33887</th>\n",
       "      <td>96137</td>\n",
       "      <td>12</td>\n",
       "      <td>2017</td>\n",
       "      <td>Elec- Residential</td>\n",
       "      <td>N</td>\n",
       "      <td>2714</td>\n",
       "      <td>1020561</td>\n",
       "      <td>376.0</td>\n",
       "    </tr>\n",
       "    <tr>\n",
       "      <th>33888</th>\n",
       "      <td>96161</td>\n",
       "      <td>9</td>\n",
       "      <td>2017</td>\n",
       "      <td>Elec- Residential</td>\n",
       "      <td>Y</td>\n",
       "      <td>0</td>\n",
       "      <td>0</td>\n",
       "      <td>NaN</td>\n",
       "    </tr>\n",
       "    <tr>\n",
       "      <th>33889</th>\n",
       "      <td>96161</td>\n",
       "      <td>10</td>\n",
       "      <td>2017</td>\n",
       "      <td>Elec- Residential</td>\n",
       "      <td>Y</td>\n",
       "      <td>0</td>\n",
       "      <td>0</td>\n",
       "      <td>NaN</td>\n",
       "    </tr>\n",
       "    <tr>\n",
       "      <th>33890</th>\n",
       "      <td>96161</td>\n",
       "      <td>11</td>\n",
       "      <td>2017</td>\n",
       "      <td>Elec- Residential</td>\n",
       "      <td>Y</td>\n",
       "      <td>0</td>\n",
       "      <td>0</td>\n",
       "      <td>NaN</td>\n",
       "    </tr>\n",
       "    <tr>\n",
       "      <th>33891</th>\n",
       "      <td>96161</td>\n",
       "      <td>12</td>\n",
       "      <td>2017</td>\n",
       "      <td>Elec- Residential</td>\n",
       "      <td>Y</td>\n",
       "      <td>0</td>\n",
       "      <td>0</td>\n",
       "      <td>NaN</td>\n",
       "    </tr>\n",
       "  </tbody>\n",
       "</table>\n",
       "</div>"
      ],
      "text/plain": [
       "       ZIPCODE  MONTH  YEAR      CUSTOMERCLASS COMBINED  TOTALCUSTOMERS  \\\n",
       "33887    96137     12  2017  Elec- Residential        N            2714   \n",
       "33888    96161      9  2017  Elec- Residential        Y               0   \n",
       "33889    96161     10  2017  Elec- Residential        Y               0   \n",
       "33890    96161     11  2017  Elec- Residential        Y               0   \n",
       "33891    96161     12  2017  Elec- Residential        Y               0   \n",
       "\n",
       "       TOTALKWH  AVERAGEKWH  \n",
       "33887   1020561       376.0  \n",
       "33888         0         NaN  \n",
       "33889         0         NaN  \n",
       "33890         0         NaN  \n",
       "33891         0         NaN  "
      ]
     },
     "execution_count": 6,
     "metadata": {},
     "output_type": "execute_result"
    }
   ],
   "source": [
    "Electricity.tail()"
   ]
  },
  {
   "cell_type": "code",
   "execution_count": 7,
   "metadata": {},
   "outputs": [
    {
     "data": {
      "text/html": [
       "<div>\n",
       "<style scoped>\n",
       "    .dataframe tbody tr th:only-of-type {\n",
       "        vertical-align: middle;\n",
       "    }\n",
       "\n",
       "    .dataframe tbody tr th {\n",
       "        vertical-align: top;\n",
       "    }\n",
       "\n",
       "    .dataframe thead th {\n",
       "        text-align: right;\n",
       "    }\n",
       "</style>\n",
       "<table border=\"1\" class=\"dataframe\">\n",
       "  <thead>\n",
       "    <tr style=\"text-align: right;\">\n",
       "      <th></th>\n",
       "      <th>ZIPCODE</th>\n",
       "      <th>MONTH</th>\n",
       "      <th>YEAR</th>\n",
       "      <th>CUSTOMERCLASS</th>\n",
       "      <th>COMBINED</th>\n",
       "      <th>TOTALCUSTOMERS</th>\n",
       "      <th>TOTALTHM</th>\n",
       "      <th>AVERAGETHM</th>\n",
       "    </tr>\n",
       "  </thead>\n",
       "  <tbody>\n",
       "    <tr>\n",
       "      <th>0</th>\n",
       "      <td>92304</td>\n",
       "      <td>1</td>\n",
       "      <td>2017</td>\n",
       "      <td>Gas- Commercial</td>\n",
       "      <td>Y</td>\n",
       "      <td>0</td>\n",
       "      <td>0</td>\n",
       "      <td>NaN</td>\n",
       "    </tr>\n",
       "    <tr>\n",
       "      <th>1</th>\n",
       "      <td>92304</td>\n",
       "      <td>2</td>\n",
       "      <td>2017</td>\n",
       "      <td>Gas- Commercial</td>\n",
       "      <td>Y</td>\n",
       "      <td>0</td>\n",
       "      <td>0</td>\n",
       "      <td>NaN</td>\n",
       "    </tr>\n",
       "    <tr>\n",
       "      <th>2</th>\n",
       "      <td>92304</td>\n",
       "      <td>3</td>\n",
       "      <td>2017</td>\n",
       "      <td>Gas- Commercial</td>\n",
       "      <td>Y</td>\n",
       "      <td>0</td>\n",
       "      <td>0</td>\n",
       "      <td>NaN</td>\n",
       "    </tr>\n",
       "    <tr>\n",
       "      <th>3</th>\n",
       "      <td>92365</td>\n",
       "      <td>1</td>\n",
       "      <td>2017</td>\n",
       "      <td>Gas- Commercial</td>\n",
       "      <td>Y</td>\n",
       "      <td>0</td>\n",
       "      <td>0</td>\n",
       "      <td>NaN</td>\n",
       "    </tr>\n",
       "    <tr>\n",
       "      <th>4</th>\n",
       "      <td>92365</td>\n",
       "      <td>2</td>\n",
       "      <td>2017</td>\n",
       "      <td>Gas- Commercial</td>\n",
       "      <td>Y</td>\n",
       "      <td>0</td>\n",
       "      <td>0</td>\n",
       "      <td>NaN</td>\n",
       "    </tr>\n",
       "  </tbody>\n",
       "</table>\n",
       "</div>"
      ],
      "text/plain": [
       "   ZIPCODE  MONTH  YEAR    CUSTOMERCLASS COMBINED  TOTALCUSTOMERS  TOTALTHM  \\\n",
       "0    92304      1  2017  Gas- Commercial        Y               0         0   \n",
       "1    92304      2  2017  Gas- Commercial        Y               0         0   \n",
       "2    92304      3  2017  Gas- Commercial        Y               0         0   \n",
       "3    92365      1  2017  Gas- Commercial        Y               0         0   \n",
       "4    92365      2  2017  Gas- Commercial        Y               0         0   \n",
       "\n",
       "   AVERAGETHM  \n",
       "0         NaN  \n",
       "1         NaN  \n",
       "2         NaN  \n",
       "3         NaN  \n",
       "4         NaN  "
      ]
     },
     "execution_count": 7,
     "metadata": {},
     "output_type": "execute_result"
    }
   ],
   "source": [
    "Gas.head()"
   ]
  },
  {
   "cell_type": "markdown",
   "metadata": {},
   "source": [
    "In python, float value can only be multiplied with another float value. Hence, change the column type of TOTALKWH from int to float using astype function and multiply it with the appropriate conversion factor. Save this value into a new column.\n",
    "\n",
    "Conversion Factors  \n",
    "\n",
    "1 kWH = 3.41214 kBtu  \n",
    "1 therm = 100 kBtu \n",
    "\n",
    "Follow this by changing the column headers for both Gas and Electricity dataframes to avoid confusion when joining the two. \n",
    "\n",
    "astype function - https://pandas.pydata.org/pandas-docs/stable/generated/pandas.DataFrame.astype.html  \n",
    "rename function - https://pandas.pydata.org/pandas-docs/stable/generated/pandas.DataFrame.rename.html"
   ]
  },
  {
   "cell_type": "code",
   "execution_count": 8,
   "metadata": {
    "collapsed": true
   },
   "outputs": [],
   "source": [
    "Electricity.TOTALKWH = Electricity.TOTALKWH.astype(float)\n",
    "Electricity['TotalkBTU'] = Electricity['TOTALKWH'] * float(3.41214)\n",
    "Electricity = Electricity.rename(index=str, columns={\"COMBINED\": \"ELECCOMBINED\", \"TOTALCUSTOMERS\": \"ELECCUSTOMERS\"})\n",
    "\n",
    "Gas.TOTALTHM = Gas.TOTALTHM.astype(float)\n",
    "Gas['TotalkBTU'] = Gas['TOTALTHM'] * 100\n",
    "Gas = Gas.rename(index=str, columns={\"COMBINED\": \"GASCOMBINED\", \"TOTALCUSTOMERS\": \"GASCUSTOMERS\"})"
   ]
  },
  {
   "cell_type": "markdown",
   "metadata": {},
   "source": [
    "Join (Concatenate) the two dataframes and save into a new dataframe\n",
    "\n",
    "Concat function - https://pandas.pydata.org/pandas-docs/stable/generated/pandas.concat.html  "
   ]
  },
  {
   "cell_type": "code",
   "execution_count": 9,
   "metadata": {
    "scrolled": true
   },
   "outputs": [
    {
     "name": "stderr",
     "output_type": "stream",
     "text": [
      "C:\\ProgramData\\Anaconda3\\lib\\site-packages\\ipykernel_launcher.py:1: FutureWarning: Sorting because non-concatenation axis is not aligned. A future version\n",
      "of pandas will change to not sort by default.\n",
      "\n",
      "To accept the future behavior, pass 'sort=False'.\n",
      "\n",
      "To retain the current behavior and silence the warning, pass 'sort=True'.\n",
      "\n",
      "  \"\"\"Entry point for launching an IPython kernel.\n"
     ]
    },
    {
     "data": {
      "text/plain": [
       "(49020, 13)"
      ]
     },
     "execution_count": 9,
     "metadata": {},
     "output_type": "execute_result"
    }
   ],
   "source": [
    "MainData = pd.concat([Electricity,Gas], axis=0, ignore_index=True)\n",
    "MainData.shape"
   ]
  },
  {
   "cell_type": "markdown",
   "metadata": {},
   "source": [
    "Filter out non-residential Customerclass. Save to a new dataframe\n",
    "\n",
    "| = OR  \n",
    "& = AND"
   ]
  },
  {
   "cell_type": "code",
   "execution_count": 10,
   "metadata": {},
   "outputs": [],
   "source": [
    "MonthlyData = MainData[(MainData.CUSTOMERCLASS == 'Elec- Residential') | (MainData.CUSTOMERCLASS == 'Gas- Residential')]"
   ]
  },
  {
   "cell_type": "markdown",
   "metadata": {},
   "source": [
    "# Calculation for Question 4"
   ]
  },
  {
   "cell_type": "markdown",
   "metadata": {},
   "source": [
    "Avg Energy use per month = Total Energy use/ Total # of customers"
   ]
  },
  {
   "cell_type": "code",
   "execution_count": 12,
   "metadata": {},
   "outputs": [
    {
     "name": "stdout",
     "output_type": "stream",
     "text": [
      "Average KWH per customer annum = 6464.064849534228\n",
      "Average THM per customer annum = 414.8440464399523\n",
      "Average electricity kBTU per customer = 22056.294235689722\n",
      "Average gas kBTU per customer = 41484.40464399523\n",
      "Total KBTU = 532306191463.6747\n"
     ]
    }
   ],
   "source": [
    "Electricity_temp = Electricity[(Electricity.CUSTOMERCLASS == 'Elec- Residential')]\n",
    "AvgKWH_per_customer = Electricity_temp['TOTALKWH'].sum()/ Electricity_temp['ELECCUSTOMERS'].sum()\n",
    "print ('Average KWH per customer annum = {}'.format(AvgKWH_per_customer*12))\n",
    "Gas_temp = Gas[(Gas.CUSTOMERCLASS == 'Gas- Residential')]\n",
    "AvgTHM_per_customer = Gas_temp['TOTALTHM'].sum()/ Gas_temp['GASCUSTOMERS'].sum()\n",
    "print ('Average THM per customer annum = {}'.format(AvgTHM_per_customer*12))\n",
    "\n",
    "print ('Average electricity kBTU per customer = {}'.format(AvgKWH_per_customer*12*3.41214))\n",
    "print ('Average gas kBTU per customer = {}'.format(AvgTHM_per_customer*12*100))\n",
    "print('Total KBTU = {}'.format(MainData['TotalkBTU'].sum()))"
   ]
  },
  {
   "cell_type": "code",
   "execution_count": 13,
   "metadata": {},
   "outputs": [
    {
     "name": "stdout",
     "output_type": "stream",
     "text": [
      "[9201286929.29772, 7129343386.6934395, 6851151097.2603, 6271880831.36298, 7065368412.92622, 8924820087.40764, 10622417747.19978, 10221957330.69312, 17308623492.34932, 6676827853.69494, 7145978780.5031395, 8769891085.91544]\n",
      "[33298686300.0, 21475679500.0, 16769833100.0, 12891084400.0, 9358741200.0, 7405020500.0, 7093430000.0, 6953545100.0, 13675409000.0, 9254432700.0, 15615299900.0, 29224569900.0]\n"
     ]
    }
   ],
   "source": [
    "BarData = MonthlyData.groupby(['MONTH']).sum()\n",
    "TotalKWH = []\n",
    "TotalTHM = []\n",
    "Temp5 = BarData['TOTALKWH'].tolist() \n",
    "Temp6 = BarData['TOTALTHM'].tolist()\n",
    "TotalKWH = [i * 3.41214 for i in Temp5]\n",
    "TotalTHM = [j * 100 for j in Temp6]\n",
    "print (TotalKWH)\n",
    "print (TotalTHM)"
   ]
  },
  {
   "cell_type": "markdown",
   "metadata": {},
   "source": [
    "To aggrgrate data by months, use the group by function.\n",
    "\n",
    "https://pandas.pydata.org/pandas-docs/stable/generated/pandas.DataFrame.groupby.html\n",
    "    \n",
    "Save the TOTALKWH and TOTALTHM columns in 2 separate lists and convert them into TOTALKBTU\n",
    "    "
   ]
  },
  {
   "cell_type": "markdown",
   "metadata": {},
   "source": [
    "Plot the data as a bar graph"
   ]
  },
  {
   "cell_type": "code",
   "execution_count": 14,
   "metadata": {},
   "outputs": [
    {
     "data": {
      "image/png": "[encoded data removed]",
      "text/plain": [
       "<matplotlib.figure.Figure at 0x1d014b2f898>"
      ]
     },
     "metadata": {},
     "output_type": "display_data"
    }
   ],
   "source": [
    "### Print bar plot\n",
    "\n",
    "# set width of bar\n",
    "barWidth = 0.25\n",
    " \n",
    "# set height of bar\n",
    "bars1 = TotalKWH \n",
    "bars2 = TotalTHM \n",
    " \n",
    "# Set position of bar on X axis\n",
    "r1 = np.arange(len(bars1))\n",
    "r2 = [x + barWidth for x in r1]\n",
    "\n",
    " \n",
    "# Make the plot\n",
    "plt.bar(r1, bars1,  width=barWidth, edgecolor='white', label='Electricity')\n",
    "plt.bar(r2, bars2,  width=barWidth, edgecolor='white', label='Gas')\n",
    "\n",
    " \n",
    "# Add xticks on the middle of the group bars\n",
    "plt.xlabel('Monthly Energy Usage', fontweight='bold')\n",
    "plt.xticks([r + barWidth for r in range(len(bars1))], range(1,13))\n",
    " \n",
    "# Create legend & Show graphic\n",
    "plt.legend()\n",
    "plt.show()\n"
   ]
  },
  {
   "cell_type": "markdown",
   "metadata": {},
   "source": [
    "# MAP"
   ]
  },
  {
   "cell_type": "markdown",
   "metadata": {},
   "source": [
    "Lets go back to our Monthly Data dateframe.\n",
    "Group the table by ZIPCODE, add TOTALKWH, TOTALTHM , TOTALKBTU, ELECUSTOMERS & GASCUSTOMERS  \n",
    "Find the AVGKBTU\n",
    "\n",
    "AVGKBTU = TOTALKBTU / Maximum(ELECUSTOMERS & GASCUSTOMERS)\n",
    "\n",
    "Create a new dataframe containing Zipcode, TOTALKBTU and AVGKBTU"
   ]
  },
  {
   "cell_type": "code",
   "execution_count": 17,
   "metadata": {
    "collapsed": true
   },
   "outputs": [],
   "source": [
    "Temp7 = MonthlyData.groupby(['ZIPCODE'], as_index=False).sum()\n",
    "\n",
    "Temp7[\"MaxCustomers\"] = Temp7[[\"ELECCUSTOMERS\", \"GASCUSTOMERS\"]].max(axis=1)\n",
    "Temp7[\"AvgkBTU\"] = (Temp7[\"TotalkBTU\"]/Temp7[\"MaxCustomers\"])*12\n",
    "ZipData = Temp7[[ 'ZIPCODE', 'TotalkBTU','MaxCustomers', 'AvgkBTU']]\n",
    "ZipData.head()\n",
    "\n",
    "\n",
    "ZipData.to_csv('ZipData_sum.csv', encoding='utf-8')"
   ]
  },
  {
   "cell_type": "markdown",
   "metadata": {},
   "source": [
    "Upload file/folder containing shape file"
   ]
  },
  {
   "cell_type": "code",
   "execution_count": 18,
   "metadata": {
    "collapsed": true
   },
   "outputs": [],
   "source": [
    "ca_zips2 = gpd.read_file(\"C:\\\\Users\\\\Disha Bhaiya\\\\Documents\\\\CEE 224X\\\\ca_zips\")"
   ]
  },
  {
   "cell_type": "markdown",
   "metadata": {},
   "source": [
    "Change the column name to make it easily identifiable.   \n",
    "Merge(inner) the ZipData with JSON file"
   ]
  },
  {
   "cell_type": "code",
   "execution_count": 19,
   "metadata": {},
   "outputs": [
    {
     "name": "stdout",
     "output_type": "stream",
     "text": [
      "['spatial_id' 'name' 'VALUE0' 'zip' 'geometry']\n",
      "['ZIPCODE' 'name' 'VALUE0' 'zip' 'geometry']\n",
      "['ZIPCODE' 'name' 'VALUE0' 'zip' 'geometry' 'TotalkBTU' 'MaxCustomers'\n",
      " 'AvgkBTU']\n"
     ]
    }
   ],
   "source": [
    "print(ca_zips2.columns.values)\n",
    "ca_zips2.head()\n",
    "ca_zips2.rename(columns = {\"spatial_id\":\"ZIPCODE\"}, inplace = True)\n",
    "print(ca_zips2.columns.values)\n",
    "ca_zips2[\"ZIPCODE\"] = ca_zips2.ZIPCODE.astype(int)\n",
    "ca_zips2 = ca_zips2.merge(ZipData, on = \"ZIPCODE\")\n",
    "print(ca_zips2.columns.values)"
   ]
  },
  {
   "cell_type": "markdown",
   "metadata": {},
   "source": [
    "Since, gdp.read_file() creates a dataframe, we must change the format back to json."
   ]
  },
  {
   "cell_type": "code",
   "execution_count": 20,
   "metadata": {
    "collapsed": true
   },
   "outputs": [],
   "source": [
    "ca_json = ca_zips2.to_json()"
   ]
  },
  {
   "cell_type": "markdown",
   "metadata": {},
   "source": [
    "Create a basemap\n",
    "Map the choropleth and save the resulting map into a new HTML.\n"
   ]
  },
  {
   "cell_type": "code",
   "execution_count": 21,
   "metadata": {
    "collapsed": true
   },
   "outputs": [],
   "source": [
    "m = folium.Map(location=[30, -120], zoom_start=5)\n",
    "\n",
    "m.choropleth(\n",
    "    geo_data=ca_json,\n",
    "    name='choropleth',\n",
    "    data=ca_zips2,\n",
    "    columns=['ZIPCODE', 'TotalkBTU'],\n",
    "    key_on='feature.properties.ZIPCODE',\n",
    "    fill_color='BuGn',\n",
    "    legend_name='Total kBTU'\n",
    ")\n",
    "\n",
    "folium.LayerControl().add_to(m)\n",
    "\n",
    "m.save('MyMap.html')"
   ]
  }
 ],
 "metadata": {
  "kernelspec": {
   "display_name": "Python 3",
   "language": "python",
   "name": "python3"
  },
  "language_info": {
   "codemirror_mode": {
    "name": "ipython",
    "version": 3
   },
   "file_extension": ".py",
   "mimetype": "text/x-python",
   "name": "python",
   "nbconvert_exporter": "python",
   "pygments_lexer": "ipython3",
   "version": "3.6.3"
  }
 },
 "nbformat": 4,
 "nbformat_minor": 2
}
